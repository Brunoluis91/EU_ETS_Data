{
 "cells": [
  {
   "cell_type": "markdown",
   "id": "63a1de66-aeb5-45bd-b608-c18b76be75b5",
   "metadata": {},
   "source": [
    "## EU ETS (2013-2020) Dashboard - Data Wrangling Notebook"
   ]
  },
  {
   "cell_type": "markdown",
   "id": "ac7cc4af",
   "metadata": {},
   "source": [
    "Source: https://www.eea.europa.eu/data-and-maps/data/european-union-emissions-trading-scheme-17"
   ]
  },
  {
   "cell_type": "code",
   "execution_count": null,
   "metadata": {},
   "outputs": [],
   "source": []
  },
  {
   "cell_type": "markdown",
   "id": "c6b6191f-6dac-42d0-9447-08a6cf3095cb",
   "metadata": {},
   "source": [
    "*The objective of this notebook is to prepare the EU ETS Data to use it in Tableau Public*"
   ]
  },
  {
   "cell_type": "markdown",
   "id": "aa29b142-23d3-4803-a7ac-08357792dbf2",
   "metadata": {},
   "source": [
    "### 0) Importing Libraries:"
   ]
  },
  {
   "cell_type": "code",
   "execution_count": 1,
   "id": "aa643e40-7588-446d-91b2-3c830b865fe8",
   "metadata": {},
   "outputs": [
    {
     "name": "stdout",
     "output_type": "stream",
     "text": [
      "Requirement already satisfied: plotly in /Users/brunoluis/opt/anaconda3/lib/python3.9/site-packages (5.10.0)\n",
      "Requirement already satisfied: tenacity>=6.2.0 in /Users/brunoluis/opt/anaconda3/lib/python3.9/site-packages (from plotly) (8.0.1)\n",
      "Requirement already satisfied: pydeck in /Users/brunoluis/opt/anaconda3/lib/python3.9/site-packages (0.7.1)\n",
      "Requirement already satisfied: ipywidgets>=7.0.0 in /Users/brunoluis/opt/anaconda3/lib/python3.9/site-packages (from pydeck) (7.6.5)\n",
      "Requirement already satisfied: ipykernel>=5.1.2 in /Users/brunoluis/opt/anaconda3/lib/python3.9/site-packages (from pydeck) (6.4.1)\n",
      "Requirement already satisfied: traitlets>=4.3.2 in /Users/brunoluis/opt/anaconda3/lib/python3.9/site-packages (from pydeck) (5.1.0)\n",
      "Requirement already satisfied: jinja2>=2.10.1 in /Users/brunoluis/opt/anaconda3/lib/python3.9/site-packages (from pydeck) (2.11.3)\n",
      "Requirement already satisfied: numpy>=1.16.4 in /Users/brunoluis/opt/anaconda3/lib/python3.9/site-packages (from pydeck) (1.20.3)\n",
      "Requirement already satisfied: ipython-genutils in /Users/brunoluis/opt/anaconda3/lib/python3.9/site-packages (from ipykernel>=5.1.2->pydeck) (0.2.0)\n",
      "Requirement already satisfied: matplotlib-inline<0.2.0,>=0.1.0 in /Users/brunoluis/opt/anaconda3/lib/python3.9/site-packages (from ipykernel>=5.1.2->pydeck) (0.1.2)\n",
      "Requirement already satisfied: ipython<8.0,>=7.23.1 in /Users/brunoluis/opt/anaconda3/lib/python3.9/site-packages (from ipykernel>=5.1.2->pydeck) (7.29.0)\n",
      "Requirement already satisfied: appnope in /Users/brunoluis/opt/anaconda3/lib/python3.9/site-packages (from ipykernel>=5.1.2->pydeck) (0.1.2)\n",
      "Requirement already satisfied: debugpy<2.0,>=1.0.0 in /Users/brunoluis/opt/anaconda3/lib/python3.9/site-packages (from ipykernel>=5.1.2->pydeck) (1.4.1)\n",
      "Requirement already satisfied: jupyter-client<8.0 in /Users/brunoluis/opt/anaconda3/lib/python3.9/site-packages (from ipykernel>=5.1.2->pydeck) (6.1.12)\n",
      "Requirement already satisfied: tornado<7.0,>=4.2 in /Users/brunoluis/opt/anaconda3/lib/python3.9/site-packages (from ipykernel>=5.1.2->pydeck) (6.1)\n",
      "Requirement already satisfied: jedi>=0.16 in /Users/brunoluis/opt/anaconda3/lib/python3.9/site-packages (from ipython<8.0,>=7.23.1->ipykernel>=5.1.2->pydeck) (0.18.0)\n",
      "Requirement already satisfied: decorator in /Users/brunoluis/opt/anaconda3/lib/python3.9/site-packages (from ipython<8.0,>=7.23.1->ipykernel>=5.1.2->pydeck) (5.1.0)\n",
      "Requirement already satisfied: prompt-toolkit!=3.0.0,!=3.0.1,<3.1.0,>=2.0.0 in /Users/brunoluis/opt/anaconda3/lib/python3.9/site-packages (from ipython<8.0,>=7.23.1->ipykernel>=5.1.2->pydeck) (3.0.20)\n",
      "Requirement already satisfied: setuptools>=18.5 in /Users/brunoluis/opt/anaconda3/lib/python3.9/site-packages (from ipython<8.0,>=7.23.1->ipykernel>=5.1.2->pydeck) (58.0.4)\n",
      "Requirement already satisfied: pexpect>4.3 in /Users/brunoluis/opt/anaconda3/lib/python3.9/site-packages (from ipython<8.0,>=7.23.1->ipykernel>=5.1.2->pydeck) (4.8.0)\n",
      "Requirement already satisfied: pygments in /Users/brunoluis/opt/anaconda3/lib/python3.9/site-packages (from ipython<8.0,>=7.23.1->ipykernel>=5.1.2->pydeck) (2.10.0)\n",
      "Requirement already satisfied: pickleshare in /Users/brunoluis/opt/anaconda3/lib/python3.9/site-packages (from ipython<8.0,>=7.23.1->ipykernel>=5.1.2->pydeck) (0.7.5)\n",
      "Requirement already satisfied: backcall in /Users/brunoluis/opt/anaconda3/lib/python3.9/site-packages (from ipython<8.0,>=7.23.1->ipykernel>=5.1.2->pydeck) (0.2.0)\n",
      "Requirement already satisfied: jupyterlab-widgets>=1.0.0 in /Users/brunoluis/opt/anaconda3/lib/python3.9/site-packages (from ipywidgets>=7.0.0->pydeck) (1.0.0)\n",
      "Requirement already satisfied: widgetsnbextension~=3.5.0 in /Users/brunoluis/opt/anaconda3/lib/python3.9/site-packages (from ipywidgets>=7.0.0->pydeck) (3.5.1)\n",
      "Requirement already satisfied: nbformat>=4.2.0 in /Users/brunoluis/opt/anaconda3/lib/python3.9/site-packages (from ipywidgets>=7.0.0->pydeck) (5.1.3)\n",
      "Requirement already satisfied: parso<0.9.0,>=0.8.0 in /Users/brunoluis/opt/anaconda3/lib/python3.9/site-packages (from jedi>=0.16->ipython<8.0,>=7.23.1->ipykernel>=5.1.2->pydeck) (0.8.2)\n",
      "Requirement already satisfied: MarkupSafe>=0.23 in /Users/brunoluis/opt/anaconda3/lib/python3.9/site-packages (from jinja2>=2.10.1->pydeck) (1.1.1)\n",
      "Requirement already satisfied: pyzmq>=13 in /Users/brunoluis/opt/anaconda3/lib/python3.9/site-packages (from jupyter-client<8.0->ipykernel>=5.1.2->pydeck) (22.2.1)\n",
      "Requirement already satisfied: python-dateutil>=2.1 in /Users/brunoluis/opt/anaconda3/lib/python3.9/site-packages (from jupyter-client<8.0->ipykernel>=5.1.2->pydeck) (2.8.2)\n",
      "Requirement already satisfied: jupyter-core>=4.6.0 in /Users/brunoluis/opt/anaconda3/lib/python3.9/site-packages (from jupyter-client<8.0->ipykernel>=5.1.2->pydeck) (4.8.1)\n",
      "Requirement already satisfied: jsonschema!=2.5.0,>=2.4 in /Users/brunoluis/opt/anaconda3/lib/python3.9/site-packages (from nbformat>=4.2.0->ipywidgets>=7.0.0->pydeck) (3.2.0)\n",
      "Requirement already satisfied: attrs>=17.4.0 in /Users/brunoluis/opt/anaconda3/lib/python3.9/site-packages (from jsonschema!=2.5.0,>=2.4->nbformat>=4.2.0->ipywidgets>=7.0.0->pydeck) (21.2.0)\n",
      "Requirement already satisfied: six>=1.11.0 in /Users/brunoluis/opt/anaconda3/lib/python3.9/site-packages (from jsonschema!=2.5.0,>=2.4->nbformat>=4.2.0->ipywidgets>=7.0.0->pydeck) (1.16.0)\n",
      "Requirement already satisfied: pyrsistent>=0.14.0 in /Users/brunoluis/opt/anaconda3/lib/python3.9/site-packages (from jsonschema!=2.5.0,>=2.4->nbformat>=4.2.0->ipywidgets>=7.0.0->pydeck) (0.18.0)\n",
      "Requirement already satisfied: ptyprocess>=0.5 in /Users/brunoluis/opt/anaconda3/lib/python3.9/site-packages (from pexpect>4.3->ipython<8.0,>=7.23.1->ipykernel>=5.1.2->pydeck) (0.7.0)\n",
      "Requirement already satisfied: wcwidth in /Users/brunoluis/opt/anaconda3/lib/python3.9/site-packages (from prompt-toolkit!=3.0.0,!=3.0.1,<3.1.0,>=2.0.0->ipython<8.0,>=7.23.1->ipykernel>=5.1.2->pydeck) (0.2.5)\n",
      "Requirement already satisfied: notebook>=4.4.1 in /Users/brunoluis/opt/anaconda3/lib/python3.9/site-packages (from widgetsnbextension~=3.5.0->ipywidgets>=7.0.0->pydeck) (6.4.5)\n",
      "Requirement already satisfied: terminado>=0.8.3 in /Users/brunoluis/opt/anaconda3/lib/python3.9/site-packages (from notebook>=4.4.1->widgetsnbextension~=3.5.0->ipywidgets>=7.0.0->pydeck) (0.9.4)\n",
      "Requirement already satisfied: nbconvert in /Users/brunoluis/opt/anaconda3/lib/python3.9/site-packages (from notebook>=4.4.1->widgetsnbextension~=3.5.0->ipywidgets>=7.0.0->pydeck) (6.1.0)\n",
      "Requirement already satisfied: Send2Trash>=1.5.0 in /Users/brunoluis/opt/anaconda3/lib/python3.9/site-packages (from notebook>=4.4.1->widgetsnbextension~=3.5.0->ipywidgets>=7.0.0->pydeck) (1.8.0)\n",
      "Requirement already satisfied: argon2-cffi in /Users/brunoluis/opt/anaconda3/lib/python3.9/site-packages (from notebook>=4.4.1->widgetsnbextension~=3.5.0->ipywidgets>=7.0.0->pydeck) (20.1.0)\n",
      "Requirement already satisfied: prometheus-client in /Users/brunoluis/opt/anaconda3/lib/python3.9/site-packages (from notebook>=4.4.1->widgetsnbextension~=3.5.0->ipywidgets>=7.0.0->pydeck) (0.11.0)\n",
      "Requirement already satisfied: cffi>=1.0.0 in /Users/brunoluis/opt/anaconda3/lib/python3.9/site-packages (from argon2-cffi->notebook>=4.4.1->widgetsnbextension~=3.5.0->ipywidgets>=7.0.0->pydeck) (1.14.6)\n",
      "Requirement already satisfied: pycparser in /Users/brunoluis/opt/anaconda3/lib/python3.9/site-packages (from cffi>=1.0.0->argon2-cffi->notebook>=4.4.1->widgetsnbextension~=3.5.0->ipywidgets>=7.0.0->pydeck) (2.20)\n",
      "Requirement already satisfied: mistune<2,>=0.8.1 in /Users/brunoluis/opt/anaconda3/lib/python3.9/site-packages (from nbconvert->notebook>=4.4.1->widgetsnbextension~=3.5.0->ipywidgets>=7.0.0->pydeck) (0.8.4)\n",
      "Requirement already satisfied: defusedxml in /Users/brunoluis/opt/anaconda3/lib/python3.9/site-packages (from nbconvert->notebook>=4.4.1->widgetsnbextension~=3.5.0->ipywidgets>=7.0.0->pydeck) (0.7.1)\n",
      "Requirement already satisfied: entrypoints>=0.2.2 in /Users/brunoluis/opt/anaconda3/lib/python3.9/site-packages (from nbconvert->notebook>=4.4.1->widgetsnbextension~=3.5.0->ipywidgets>=7.0.0->pydeck) (0.3)\n",
      "Requirement already satisfied: pandocfilters>=1.4.1 in /Users/brunoluis/opt/anaconda3/lib/python3.9/site-packages (from nbconvert->notebook>=4.4.1->widgetsnbextension~=3.5.0->ipywidgets>=7.0.0->pydeck) (1.4.3)\n",
      "Requirement already satisfied: nbclient<0.6.0,>=0.5.0 in /Users/brunoluis/opt/anaconda3/lib/python3.9/site-packages (from nbconvert->notebook>=4.4.1->widgetsnbextension~=3.5.0->ipywidgets>=7.0.0->pydeck) (0.5.3)\n",
      "Requirement already satisfied: jupyterlab-pygments in /Users/brunoluis/opt/anaconda3/lib/python3.9/site-packages (from nbconvert->notebook>=4.4.1->widgetsnbextension~=3.5.0->ipywidgets>=7.0.0->pydeck) (0.1.2)\n",
      "Requirement already satisfied: testpath in /Users/brunoluis/opt/anaconda3/lib/python3.9/site-packages (from nbconvert->notebook>=4.4.1->widgetsnbextension~=3.5.0->ipywidgets>=7.0.0->pydeck) (0.5.0)\n",
      "Requirement already satisfied: bleach in /Users/brunoluis/opt/anaconda3/lib/python3.9/site-packages (from nbconvert->notebook>=4.4.1->widgetsnbextension~=3.5.0->ipywidgets>=7.0.0->pydeck) (4.0.0)\n",
      "Requirement already satisfied: nest-asyncio in /Users/brunoluis/opt/anaconda3/lib/python3.9/site-packages (from nbclient<0.6.0,>=0.5.0->nbconvert->notebook>=4.4.1->widgetsnbextension~=3.5.0->ipywidgets>=7.0.0->pydeck) (1.5.1)\n",
      "Requirement already satisfied: async-generator in /Users/brunoluis/opt/anaconda3/lib/python3.9/site-packages (from nbclient<0.6.0,>=0.5.0->nbconvert->notebook>=4.4.1->widgetsnbextension~=3.5.0->ipywidgets>=7.0.0->pydeck) (1.10)\n",
      "Requirement already satisfied: webencodings in /Users/brunoluis/opt/anaconda3/lib/python3.9/site-packages (from bleach->nbconvert->notebook>=4.4.1->widgetsnbextension~=3.5.0->ipywidgets>=7.0.0->pydeck) (0.5.1)\n",
      "Requirement already satisfied: packaging in /Users/brunoluis/opt/anaconda3/lib/python3.9/site-packages (from bleach->nbconvert->notebook>=4.4.1->widgetsnbextension~=3.5.0->ipywidgets>=7.0.0->pydeck) (21.0)\n",
      "Requirement already satisfied: pyparsing>=2.0.2 in /Users/brunoluis/opt/anaconda3/lib/python3.9/site-packages (from packaging->bleach->nbconvert->notebook>=4.4.1->widgetsnbextension~=3.5.0->ipywidgets>=7.0.0->pydeck) (3.0.4)\n"
     ]
    }
   ],
   "source": [
    "# Data Wrangling\n",
    "import numpy as np\n",
    "import pandas as pd\n",
    "\n",
    "#Visualization\n",
    "!pip install plotly\n",
    "import seaborn as sns\n",
    "import plotly.express as px\n",
    "import matplotlib.pyplot as plt\n",
    "\n",
    "#Geospatial mapping\n",
    "import plotly.express as px\n",
    "!pip install pydeck\n",
    "import pydeck as pdk"
   ]
  },
  {
   "cell_type": "markdown",
   "id": "d69f9ed9-daf1-4027-a700-b58c777d0e5c",
   "metadata": {},
   "source": [
    "### 1) Data Import: "
   ]
  },
  {
   "cell_type": "code",
   "execution_count": 3,
   "id": "b1077289-b199-43e2-9d5b-7cf051d39af7",
   "metadata": {},
   "outputs": [],
   "source": [
    "# Import Data downloaded from: https://www.eea.europa.eu/data-and-maps/data/european-union-emissions-trading-scheme-16\n",
    "ETS = '/Users/brunoluis/Jupyter/Projects /EU ETS DATA/ETS_Database_v49_Jul22.csv'\n",
    "Data = pd.read_csv(ETS , sep='\\t')"
   ]
  },
  {
   "cell_type": "markdown",
   "id": "172a49b6-7f63-45c4-ad5a-dca9eeb6f6eb",
   "metadata": {},
   "source": [
    "### 2) Data Exploration: "
   ]
  },
  {
   "cell_type": "code",
   "execution_count": 4,
   "id": "a8b076ad-0615-489d-a9ea-be48e6d58f3f",
   "metadata": {},
   "outputs": [
    {
     "name": "stdout",
     "output_type": "stream",
     "text": [
      "<class 'pandas.core.frame.DataFrame'>\n",
      "RangeIndex: 77079 entries, 0 to 77078\n",
      "Data columns (total 7 columns):\n",
      " #   Column                     Non-Null Count  Dtype  \n",
      "---  ------                     --------------  -----  \n",
      " 0   country                    77079 non-null  object \n",
      " 1   country_code               77079 non-null  object \n",
      " 2   ETS information            77079 non-null  object \n",
      " 3   main activity sector name  77079 non-null  object \n",
      " 4   unit                       77079 non-null  object \n",
      " 5   value                      77079 non-null  float64\n",
      " 6   year                       77079 non-null  object \n",
      "dtypes: float64(1), object(6)\n",
      "memory usage: 4.1+ MB\n"
     ]
    }
   ],
   "source": [
    "Data.info()"
   ]
  },
  {
   "cell_type": "code",
   "execution_count": 5,
   "id": "e900dd8d-043a-4139-a11f-4067076ec457",
   "metadata": {},
   "outputs": [
    {
     "data": {
      "text/html": [
       "<div>\n",
       "<style scoped>\n",
       "    .dataframe tbody tr th:only-of-type {\n",
       "        vertical-align: middle;\n",
       "    }\n",
       "\n",
       "    .dataframe tbody tr th {\n",
       "        vertical-align: top;\n",
       "    }\n",
       "\n",
       "    .dataframe thead th {\n",
       "        text-align: right;\n",
       "    }\n",
       "</style>\n",
       "<table border=\"1\" class=\"dataframe\">\n",
       "  <thead>\n",
       "    <tr style=\"text-align: right;\">\n",
       "      <th></th>\n",
       "      <th>country</th>\n",
       "      <th>country_code</th>\n",
       "      <th>ETS information</th>\n",
       "      <th>main activity sector name</th>\n",
       "      <th>unit</th>\n",
       "      <th>value</th>\n",
       "      <th>year</th>\n",
       "    </tr>\n",
       "  </thead>\n",
       "  <tbody>\n",
       "    <tr>\n",
       "      <th>0</th>\n",
       "      <td>Austria</td>\n",
       "      <td>AT</td>\n",
       "      <td>1.1 Freely allocated allowances</td>\n",
       "      <td>32 Manufacture of ceramics</td>\n",
       "      <td>tonne of CO2 equ.</td>\n",
       "      <td>498797.0</td>\n",
       "      <td>2005</td>\n",
       "    </tr>\n",
       "    <tr>\n",
       "      <th>1</th>\n",
       "      <td>Austria</td>\n",
       "      <td>AT</td>\n",
       "      <td>1.1 Freely allocated allowances</td>\n",
       "      <td>32 Manufacture of ceramics</td>\n",
       "      <td>tonne of CO2 equ.</td>\n",
       "      <td>383157.0</td>\n",
       "      <td>2013</td>\n",
       "    </tr>\n",
       "    <tr>\n",
       "      <th>2</th>\n",
       "      <td>Austria</td>\n",
       "      <td>AT</td>\n",
       "      <td>1.1 Freely allocated allowances</td>\n",
       "      <td>32 Manufacture of ceramics</td>\n",
       "      <td>tonne of CO2 equ.</td>\n",
       "      <td>351210.0</td>\n",
       "      <td>2017</td>\n",
       "    </tr>\n",
       "    <tr>\n",
       "      <th>3</th>\n",
       "      <td>Austria</td>\n",
       "      <td>AT</td>\n",
       "      <td>1.1 Freely allocated allowances</td>\n",
       "      <td>32 Manufacture of ceramics</td>\n",
       "      <td>tonne of CO2 equ.</td>\n",
       "      <td>335835.0</td>\n",
       "      <td>2018</td>\n",
       "    </tr>\n",
       "    <tr>\n",
       "      <th>4</th>\n",
       "      <td>Austria</td>\n",
       "      <td>AT</td>\n",
       "      <td>1.1 Freely allocated allowances</td>\n",
       "      <td>32 Manufacture of ceramics</td>\n",
       "      <td>tonne of CO2 equ.</td>\n",
       "      <td>299741.0</td>\n",
       "      <td>2021</td>\n",
       "    </tr>\n",
       "  </tbody>\n",
       "</table>\n",
       "</div>"
      ],
      "text/plain": [
       "   country country_code                  ETS information  \\\n",
       "0  Austria           AT  1.1 Freely allocated allowances   \n",
       "1  Austria           AT  1.1 Freely allocated allowances   \n",
       "2  Austria           AT  1.1 Freely allocated allowances   \n",
       "3  Austria           AT  1.1 Freely allocated allowances   \n",
       "4  Austria           AT  1.1 Freely allocated allowances   \n",
       "\n",
       "    main activity sector name               unit     value  year  \n",
       "0  32 Manufacture of ceramics  tonne of CO2 equ.  498797.0  2005  \n",
       "1  32 Manufacture of ceramics  tonne of CO2 equ.  383157.0  2013  \n",
       "2  32 Manufacture of ceramics  tonne of CO2 equ.  351210.0  2017  \n",
       "3  32 Manufacture of ceramics  tonne of CO2 equ.  335835.0  2018  \n",
       "4  32 Manufacture of ceramics  tonne of CO2 equ.  299741.0  2021  "
      ]
     },
     "execution_count": 5,
     "metadata": {},
     "output_type": "execute_result"
    }
   ],
   "source": [
    "Data.head()"
   ]
  },
  {
   "cell_type": "code",
   "execution_count": 6,
   "id": "70ed0fef-b148-43ed-963c-cd4fed4eb19f",
   "metadata": {},
   "outputs": [
    {
     "data": {
      "text/plain": [
       "main activity sector name                                  \n",
       "20-99 All stationary installations                             6790\n",
       "10 Aviation                                                    5449\n",
       "20 Combustion of fuels                                         4765\n",
       "21-99 All industrial installations (excl. combustion)          4411\n",
       "29 Production of cement clinker                                4277\n",
       "32 Manufacture of ceramics                                     4107\n",
       "31 Manufacture of glass                                        4045\n",
       "36 Production of paper or cardboard                            3812\n",
       "30 Production of lime, or calcination of dolomite/magnesite    3808\n",
       "24  Production of pig iron or steel                            3607\n",
       "21  Refining of mineral oil                                    3521\n",
       "33 Manufacture of mineral wool                                 2800\n",
       "25 Production or processing of ferrous metals                  2759\n",
       "42 Production of bulk chemicals                                2645\n",
       "35 Production of pulp                                          2413\n",
       "28 Production or processing of non-ferrous metals              1975\n",
       "41 Production of ammonia                                       1947\n",
       "34 Production or processing of gypsum or plasterboard          1914\n",
       "99 Other activity opted-in under Art. 24                       1664\n",
       "26 Production of primary aluminium                             1593\n",
       "38 Production of nitric acid                                   1516\n",
       "27 Production of secondary aluminium                           1486\n",
       "43 Production of hydrogen and synthesis gas                    1444\n",
       "37 Production of carbon black                                  1083\n",
       "22  Production of coke                                          995\n",
       "23 Metal ore roasting or sintering                              964\n",
       "44 Production of soda ash and sodium bicarbonate                907\n",
       "45 Capture of greenhouse gases under Directive 2009/31/EC       180\n",
       "39 Production of adipic acid                                    109\n",
       "40 Production of glyoxal and glyoxylic acid                      93\n",
       "dtype: int64"
      ]
     },
     "execution_count": 6,
     "metadata": {},
     "output_type": "execute_result"
    }
   ],
   "source": [
    "Data[['main activity sector name']].value_counts()"
   ]
  },
  {
   "cell_type": "code",
   "execution_count": 7,
   "id": "db8c3599-b1ad-4039-8db8-3b176842721e",
   "metadata": {},
   "outputs": [
    {
     "data": {
      "text/plain": [
       "year                            \n",
       "Total 2nd trading period (08-12)    3969\n",
       "2012                                3928\n",
       "2009                                3799\n",
       "2008                                3798\n",
       "2010                                3797\n",
       "2011                                3795\n",
       "Total 3rd trading period (13-20)    3728\n",
       "2020                                3695\n",
       "2019                                3603\n",
       "2018                                3586\n",
       "2017                                3579\n",
       "2016                                3578\n",
       "2014                                3569\n",
       "Total 1st trading period (05-07)    3565\n",
       "2015                                3564\n",
       "2013                                3552\n",
       "2007                                3549\n",
       "Total 4th trading period (21-30)    3427\n",
       "2021                                3426\n",
       "2006                                3299\n",
       "2005                                3288\n",
       "2022                                 985\n",
       "dtype: int64"
      ]
     },
     "execution_count": 7,
     "metadata": {},
     "output_type": "execute_result"
    }
   ],
   "source": [
    "Data[['year']].value_counts()"
   ]
  },
  {
   "cell_type": "code",
   "execution_count": 8,
   "id": "f4cad18f-841f-4c80-93c7-78745c7fe3fe",
   "metadata": {},
   "outputs": [
    {
     "data": {
      "text/plain": [
       "country                  \n",
       "Germany                      4161\n",
       "Spain                        3888\n",
       "France                       3623\n",
       "Sweden                       3340\n",
       "Poland                       3282\n",
       "Italy                        3281\n",
       "United Kingdom (excl. NI)    3248\n",
       "Belgium                      3197\n",
       "Hungary                      3163\n",
       "Finland                      3163\n",
       "Netherlands                  3100\n",
       "Austria                      3091\n",
       "Czechia                      2902\n",
       "Romania                      2856\n",
       "Slovakia                     2829\n",
       "Portugal                     2630\n",
       "Greece                       2586\n",
       "Bulgaria                     2482\n",
       "Slovenia                     2345\n",
       "Norway                       2310\n",
       "Latvia                       2056\n",
       "Lithuania                    2030\n",
       "Estonia                      1974\n",
       "Denmark                      1972\n",
       "Ireland                      1669\n",
       "Croatia                      1580\n",
       "Luxembourg                   1419\n",
       "Cyprus                        964\n",
       "Iceland                       792\n",
       "Malta                         451\n",
       "Liechtenstein                 336\n",
       "Northern Ireland              317\n",
       "NER 300 auctions               42\n",
       "dtype: int64"
      ]
     },
     "execution_count": 8,
     "metadata": {},
     "output_type": "execute_result"
    }
   ],
   "source": [
    "Data[['country']].value_counts()"
   ]
  },
  {
   "cell_type": "code",
   "execution_count": 9,
   "id": "335b9d05-b44a-4378-afcc-22ed31be5933",
   "metadata": {},
   "outputs": [
    {
     "data": {
      "text/plain": [
       "<AxesSubplot:xlabel='value', ylabel='main activity sector name'>"
      ]
     },
     "execution_count": 9,
     "metadata": {},
     "output_type": "execute_result"
    },
    {
     "data": {
      "image/png": "[encoded data removed]",
      "text/plain": [
       "<Figure size 1080x576 with 1 Axes>"
      ]
     },
     "metadata": {
      "needs_background": "light"
     },
     "output_type": "display_data"
    }
   ],
   "source": [
    "# Let's plot some curves\n",
    "plt.figure(figsize=(15,8))\n",
    "sns.barplot(y = 'main activity sector name', x = 'value', data = Data)"
   ]
  },
  {
   "cell_type": "code",
   "execution_count": 10,
   "id": "6fac3815-604a-4634-a070-3de2e529bceb",
   "metadata": {},
   "outputs": [
    {
     "data": {
      "text/plain": [
       "<AxesSubplot:xlabel='value', ylabel='country'>"
      ]
     },
     "execution_count": 10,
     "metadata": {},
     "output_type": "execute_result"
    },
    {
     "data": {
      "image/png": "[encoded data removed]",
      "text/plain": [
       "<Figure size 1080x576 with 1 Axes>"
      ]
     },
     "metadata": {
      "needs_background": "light"
     },
     "output_type": "display_data"
    }
   ],
   "source": [
    "# Let's plot some curves\n",
    "plt.figure(figsize=(15,8))\n",
    "sns.barplot(y = 'country', x = 'value', data = Data)"
   ]
  },
  {
   "cell_type": "code",
   "execution_count": 11,
   "id": "0d8c1e63-a740-4243-9176-132091e252ad",
   "metadata": {},
   "outputs": [
    {
     "data": {
      "text/plain": [
       "country                      0.0\n",
       "country_code                 0.0\n",
       "ETS information              0.0\n",
       "main activity sector name    0.0\n",
       "unit                         0.0\n",
       "value                        0.0\n",
       "year                         0.0\n",
       "dtype: float64"
      ]
     },
     "execution_count": 11,
     "metadata": {},
     "output_type": "execute_result"
    }
   ],
   "source": [
    "#Percentage of null values in the columns \n",
    "round((Data.isnull().sum()/len(Data)*100),2)"
   ]
  },
  {
   "cell_type": "code",
   "execution_count": 12,
   "id": "27259852-3cce-40eb-be3b-fae844a4bd45",
   "metadata": {},
   "outputs": [],
   "source": [
    "# Database seems already prepared for explotation. "
   ]
  },
  {
   "cell_type": "code",
   "execution_count": 14,
   "id": "8e901d10-59e0-4b6a-8a71-55aacff8cc85",
   "metadata": {},
   "outputs": [],
   "source": [
    "# Import Data downloaded from: https://www.eea.europa.eu/data-and-maps/data/european-union-emissions-trading-scheme-16\n",
    "LL = '/Users/brunoluis/Jupyter/Projects /EU ETS DATA/COUNTRIES_LAT_LON.csv'\n",
    "Data2 = pd.read_csv(LL , sep='\\t')"
   ]
  },
  {
   "cell_type": "code",
   "execution_count": 15,
   "id": "cccbaa74-257b-4fc3-8f12-b3b80125e9b0",
   "metadata": {},
   "outputs": [
    {
     "data": {
      "text/html": [
       "<div>\n",
       "<style scoped>\n",
       "    .dataframe tbody tr th:only-of-type {\n",
       "        vertical-align: middle;\n",
       "    }\n",
       "\n",
       "    .dataframe tbody tr th {\n",
       "        vertical-align: top;\n",
       "    }\n",
       "\n",
       "    .dataframe thead th {\n",
       "        text-align: right;\n",
       "    }\n",
       "</style>\n",
       "<table border=\"1\" class=\"dataframe\">\n",
       "  <thead>\n",
       "    <tr style=\"text-align: right;\">\n",
       "      <th></th>\n",
       "      <th>country</th>\n",
       "      <th>latitude</th>\n",
       "      <th>longitude</th>\n",
       "      <th>name</th>\n",
       "    </tr>\n",
       "  </thead>\n",
       "  <tbody>\n",
       "    <tr>\n",
       "      <th>0</th>\n",
       "      <td>AD</td>\n",
       "      <td>42.546245</td>\n",
       "      <td>1.601554</td>\n",
       "      <td>Andorra</td>\n",
       "    </tr>\n",
       "    <tr>\n",
       "      <th>1</th>\n",
       "      <td>AE</td>\n",
       "      <td>23.424076</td>\n",
       "      <td>53.847818</td>\n",
       "      <td>United Arab Emirates</td>\n",
       "    </tr>\n",
       "    <tr>\n",
       "      <th>2</th>\n",
       "      <td>AF</td>\n",
       "      <td>33.939110</td>\n",
       "      <td>67.709953</td>\n",
       "      <td>Afghanistan</td>\n",
       "    </tr>\n",
       "    <tr>\n",
       "      <th>3</th>\n",
       "      <td>AG</td>\n",
       "      <td>17.060816</td>\n",
       "      <td>-61.796428</td>\n",
       "      <td>Antigua and Barbuda</td>\n",
       "    </tr>\n",
       "    <tr>\n",
       "      <th>4</th>\n",
       "      <td>AI</td>\n",
       "      <td>18.220554</td>\n",
       "      <td>-63.068615</td>\n",
       "      <td>Anguilla</td>\n",
       "    </tr>\n",
       "  </tbody>\n",
       "</table>\n",
       "</div>"
      ],
      "text/plain": [
       "  country   latitude  longitude                  name\n",
       "0      AD  42.546245   1.601554               Andorra\n",
       "1      AE  23.424076  53.847818  United Arab Emirates\n",
       "2      AF  33.939110  67.709953           Afghanistan\n",
       "3      AG  17.060816 -61.796428   Antigua and Barbuda\n",
       "4      AI  18.220554 -63.068615              Anguilla"
      ]
     },
     "execution_count": 15,
     "metadata": {},
     "output_type": "execute_result"
    }
   ],
   "source": [
    "Data2.head()"
   ]
  },
  {
   "cell_type": "code",
   "execution_count": 16,
   "id": "2bbed041-3908-4c45-bf8f-668f5feb3b2e",
   "metadata": {},
   "outputs": [
    {
     "data": {
      "text/html": [
       "<div>\n",
       "<style scoped>\n",
       "    .dataframe tbody tr th:only-of-type {\n",
       "        vertical-align: middle;\n",
       "    }\n",
       "\n",
       "    .dataframe tbody tr th {\n",
       "        vertical-align: top;\n",
       "    }\n",
       "\n",
       "    .dataframe thead th {\n",
       "        text-align: right;\n",
       "    }\n",
       "</style>\n",
       "<table border=\"1\" class=\"dataframe\">\n",
       "  <thead>\n",
       "    <tr style=\"text-align: right;\">\n",
       "      <th></th>\n",
       "      <th>country</th>\n",
       "      <th>latitude</th>\n",
       "      <th>longitude</th>\n",
       "    </tr>\n",
       "  </thead>\n",
       "  <tbody>\n",
       "    <tr>\n",
       "      <th>0</th>\n",
       "      <td>AD</td>\n",
       "      <td>42.546245</td>\n",
       "      <td>1.601554</td>\n",
       "    </tr>\n",
       "    <tr>\n",
       "      <th>1</th>\n",
       "      <td>AE</td>\n",
       "      <td>23.424076</td>\n",
       "      <td>53.847818</td>\n",
       "    </tr>\n",
       "    <tr>\n",
       "      <th>2</th>\n",
       "      <td>AF</td>\n",
       "      <td>33.939110</td>\n",
       "      <td>67.709953</td>\n",
       "    </tr>\n",
       "    <tr>\n",
       "      <th>3</th>\n",
       "      <td>AG</td>\n",
       "      <td>17.060816</td>\n",
       "      <td>-61.796428</td>\n",
       "    </tr>\n",
       "    <tr>\n",
       "      <th>4</th>\n",
       "      <td>AI</td>\n",
       "      <td>18.220554</td>\n",
       "      <td>-63.068615</td>\n",
       "    </tr>\n",
       "    <tr>\n",
       "      <th>...</th>\n",
       "      <td>...</td>\n",
       "      <td>...</td>\n",
       "      <td>...</td>\n",
       "    </tr>\n",
       "    <tr>\n",
       "      <th>240</th>\n",
       "      <td>YE</td>\n",
       "      <td>15.552727</td>\n",
       "      <td>48.516388</td>\n",
       "    </tr>\n",
       "    <tr>\n",
       "      <th>241</th>\n",
       "      <td>YT</td>\n",
       "      <td>-12.827500</td>\n",
       "      <td>45.166244</td>\n",
       "    </tr>\n",
       "    <tr>\n",
       "      <th>242</th>\n",
       "      <td>ZA</td>\n",
       "      <td>-30.559482</td>\n",
       "      <td>22.937506</td>\n",
       "    </tr>\n",
       "    <tr>\n",
       "      <th>243</th>\n",
       "      <td>ZM</td>\n",
       "      <td>-13.133897</td>\n",
       "      <td>27.849332</td>\n",
       "    </tr>\n",
       "    <tr>\n",
       "      <th>244</th>\n",
       "      <td>ZW</td>\n",
       "      <td>-19.015438</td>\n",
       "      <td>29.154857</td>\n",
       "    </tr>\n",
       "  </tbody>\n",
       "</table>\n",
       "<p>245 rows × 3 columns</p>\n",
       "</div>"
      ],
      "text/plain": [
       "    country   latitude  longitude\n",
       "0        AD  42.546245   1.601554\n",
       "1        AE  23.424076  53.847818\n",
       "2        AF  33.939110  67.709953\n",
       "3        AG  17.060816 -61.796428\n",
       "4        AI  18.220554 -63.068615\n",
       "..      ...        ...        ...\n",
       "240      YE  15.552727  48.516388\n",
       "241      YT -12.827500  45.166244\n",
       "242      ZA -30.559482  22.937506\n",
       "243      ZM -13.133897  27.849332\n",
       "244      ZW -19.015438  29.154857\n",
       "\n",
       "[245 rows x 3 columns]"
      ]
     },
     "execution_count": 16,
     "metadata": {},
     "output_type": "execute_result"
    }
   ],
   "source": [
    "Data2 = Data2.drop('name', axis = 1)\n",
    "Data2"
   ]
  },
  {
   "cell_type": "code",
   "execution_count": 17,
   "id": "81c2aeb6-e882-419c-97d1-741173604507",
   "metadata": {},
   "outputs": [],
   "source": [
    "DATA = Data2.merge(Data, left_on = 'country', right_on = 'country_code')"
   ]
  },
  {
   "cell_type": "code",
   "execution_count": 18,
   "id": "3a44e265-f0c4-49f7-9fc3-697053ab2034",
   "metadata": {},
   "outputs": [
    {
     "data": {
      "text/html": [
       "<div>\n",
       "<style scoped>\n",
       "    .dataframe tbody tr th:only-of-type {\n",
       "        vertical-align: middle;\n",
       "    }\n",
       "\n",
       "    .dataframe tbody tr th {\n",
       "        vertical-align: top;\n",
       "    }\n",
       "\n",
       "    .dataframe thead th {\n",
       "        text-align: right;\n",
       "    }\n",
       "</style>\n",
       "<table border=\"1\" class=\"dataframe\">\n",
       "  <thead>\n",
       "    <tr style=\"text-align: right;\">\n",
       "      <th></th>\n",
       "      <th>country_x</th>\n",
       "      <th>latitude</th>\n",
       "      <th>longitude</th>\n",
       "      <th>country_y</th>\n",
       "      <th>country_code</th>\n",
       "      <th>ETS information</th>\n",
       "      <th>main activity sector name</th>\n",
       "      <th>unit</th>\n",
       "      <th>value</th>\n",
       "      <th>year</th>\n",
       "    </tr>\n",
       "  </thead>\n",
       "  <tbody>\n",
       "    <tr>\n",
       "      <th>0</th>\n",
       "      <td>AT</td>\n",
       "      <td>47.516231</td>\n",
       "      <td>14.550072</td>\n",
       "      <td>Austria</td>\n",
       "      <td>AT</td>\n",
       "      <td>1.1 Freely allocated allowances</td>\n",
       "      <td>32 Manufacture of ceramics</td>\n",
       "      <td>tonne of CO2 equ.</td>\n",
       "      <td>498797.0</td>\n",
       "      <td>2005</td>\n",
       "    </tr>\n",
       "    <tr>\n",
       "      <th>1</th>\n",
       "      <td>AT</td>\n",
       "      <td>47.516231</td>\n",
       "      <td>14.550072</td>\n",
       "      <td>Austria</td>\n",
       "      <td>AT</td>\n",
       "      <td>1.1 Freely allocated allowances</td>\n",
       "      <td>32 Manufacture of ceramics</td>\n",
       "      <td>tonne of CO2 equ.</td>\n",
       "      <td>383157.0</td>\n",
       "      <td>2013</td>\n",
       "    </tr>\n",
       "    <tr>\n",
       "      <th>2</th>\n",
       "      <td>AT</td>\n",
       "      <td>47.516231</td>\n",
       "      <td>14.550072</td>\n",
       "      <td>Austria</td>\n",
       "      <td>AT</td>\n",
       "      <td>1.1 Freely allocated allowances</td>\n",
       "      <td>32 Manufacture of ceramics</td>\n",
       "      <td>tonne of CO2 equ.</td>\n",
       "      <td>351210.0</td>\n",
       "      <td>2017</td>\n",
       "    </tr>\n",
       "    <tr>\n",
       "      <th>3</th>\n",
       "      <td>AT</td>\n",
       "      <td>47.516231</td>\n",
       "      <td>14.550072</td>\n",
       "      <td>Austria</td>\n",
       "      <td>AT</td>\n",
       "      <td>1.1 Freely allocated allowances</td>\n",
       "      <td>32 Manufacture of ceramics</td>\n",
       "      <td>tonne of CO2 equ.</td>\n",
       "      <td>335835.0</td>\n",
       "      <td>2018</td>\n",
       "    </tr>\n",
       "    <tr>\n",
       "      <th>4</th>\n",
       "      <td>AT</td>\n",
       "      <td>47.516231</td>\n",
       "      <td>14.550072</td>\n",
       "      <td>Austria</td>\n",
       "      <td>AT</td>\n",
       "      <td>1.1 Freely allocated allowances</td>\n",
       "      <td>32 Manufacture of ceramics</td>\n",
       "      <td>tonne of CO2 equ.</td>\n",
       "      <td>299741.0</td>\n",
       "      <td>2021</td>\n",
       "    </tr>\n",
       "    <tr>\n",
       "      <th>...</th>\n",
       "      <td>...</td>\n",
       "      <td>...</td>\n",
       "      <td>...</td>\n",
       "      <td>...</td>\n",
       "      <td>...</td>\n",
       "      <td>...</td>\n",
       "      <td>...</td>\n",
       "      <td>...</td>\n",
       "      <td>...</td>\n",
       "      <td>...</td>\n",
       "    </tr>\n",
       "    <tr>\n",
       "      <th>76715</th>\n",
       "      <td>SK</td>\n",
       "      <td>48.669026</td>\n",
       "      <td>19.699024</td>\n",
       "      <td>Slovakia</td>\n",
       "      <td>SK</td>\n",
       "      <td>4. Total surrendered units</td>\n",
       "      <td>21-99 All industrial installations (excl. comb...</td>\n",
       "      <td>tonne of CO2 equ.</td>\n",
       "      <td>109146151.0</td>\n",
       "      <td>Total 3rd trading period (13-20)</td>\n",
       "    </tr>\n",
       "    <tr>\n",
       "      <th>76716</th>\n",
       "      <td>SK</td>\n",
       "      <td>48.669026</td>\n",
       "      <td>19.699024</td>\n",
       "      <td>Slovakia</td>\n",
       "      <td>SK</td>\n",
       "      <td>1.1 Freely allocated allowances</td>\n",
       "      <td>24  Production of pig iron or steel</td>\n",
       "      <td>tonne of CO2 equ.</td>\n",
       "      <td>54706594.0</td>\n",
       "      <td>Total 2nd trading period (08-12)</td>\n",
       "    </tr>\n",
       "    <tr>\n",
       "      <th>76717</th>\n",
       "      <td>SK</td>\n",
       "      <td>48.669026</td>\n",
       "      <td>19.699024</td>\n",
       "      <td>Slovakia</td>\n",
       "      <td>SK</td>\n",
       "      <td>1.1 Freely allocated allowances</td>\n",
       "      <td>25 Production or processing of ferrous metals</td>\n",
       "      <td>tonne of CO2 equ.</td>\n",
       "      <td>324244.0</td>\n",
       "      <td>Total 2nd trading period (08-12)</td>\n",
       "    </tr>\n",
       "    <tr>\n",
       "      <th>76718</th>\n",
       "      <td>SK</td>\n",
       "      <td>48.669026</td>\n",
       "      <td>19.699024</td>\n",
       "      <td>Slovakia</td>\n",
       "      <td>SK</td>\n",
       "      <td>2. Verified emissions</td>\n",
       "      <td>26 Production of primary aluminium</td>\n",
       "      <td>tonne of CO2 equ.</td>\n",
       "      <td>131029.0</td>\n",
       "      <td>Total 2nd trading period (08-12)</td>\n",
       "    </tr>\n",
       "    <tr>\n",
       "      <th>76719</th>\n",
       "      <td>SK</td>\n",
       "      <td>48.669026</td>\n",
       "      <td>19.699024</td>\n",
       "      <td>Slovakia</td>\n",
       "      <td>SK</td>\n",
       "      <td>2. Verified emissions</td>\n",
       "      <td>29 Production of cement clinker</td>\n",
       "      <td>tonne of CO2 equ.</td>\n",
       "      <td>9642485.0</td>\n",
       "      <td>Total 2nd trading period (08-12)</td>\n",
       "    </tr>\n",
       "  </tbody>\n",
       "</table>\n",
       "<p>76720 rows × 10 columns</p>\n",
       "</div>"
      ],
      "text/plain": [
       "      country_x   latitude  longitude country_y country_code  \\\n",
       "0            AT  47.516231  14.550072   Austria           AT   \n",
       "1            AT  47.516231  14.550072   Austria           AT   \n",
       "2            AT  47.516231  14.550072   Austria           AT   \n",
       "3            AT  47.516231  14.550072   Austria           AT   \n",
       "4            AT  47.516231  14.550072   Austria           AT   \n",
       "...         ...        ...        ...       ...          ...   \n",
       "76715        SK  48.669026  19.699024  Slovakia           SK   \n",
       "76716        SK  48.669026  19.699024  Slovakia           SK   \n",
       "76717        SK  48.669026  19.699024  Slovakia           SK   \n",
       "76718        SK  48.669026  19.699024  Slovakia           SK   \n",
       "76719        SK  48.669026  19.699024  Slovakia           SK   \n",
       "\n",
       "                       ETS information  \\\n",
       "0      1.1 Freely allocated allowances   \n",
       "1      1.1 Freely allocated allowances   \n",
       "2      1.1 Freely allocated allowances   \n",
       "3      1.1 Freely allocated allowances   \n",
       "4      1.1 Freely allocated allowances   \n",
       "...                                ...   \n",
       "76715       4. Total surrendered units   \n",
       "76716  1.1 Freely allocated allowances   \n",
       "76717  1.1 Freely allocated allowances   \n",
       "76718            2. Verified emissions   \n",
       "76719            2. Verified emissions   \n",
       "\n",
       "                               main activity sector name               unit  \\\n",
       "0                             32 Manufacture of ceramics  tonne of CO2 equ.   \n",
       "1                             32 Manufacture of ceramics  tonne of CO2 equ.   \n",
       "2                             32 Manufacture of ceramics  tonne of CO2 equ.   \n",
       "3                             32 Manufacture of ceramics  tonne of CO2 equ.   \n",
       "4                             32 Manufacture of ceramics  tonne of CO2 equ.   \n",
       "...                                                  ...                ...   \n",
       "76715  21-99 All industrial installations (excl. comb...  tonne of CO2 equ.   \n",
       "76716                24  Production of pig iron or steel  tonne of CO2 equ.   \n",
       "76717      25 Production or processing of ferrous metals  tonne of CO2 equ.   \n",
       "76718                 26 Production of primary aluminium  tonne of CO2 equ.   \n",
       "76719                    29 Production of cement clinker  tonne of CO2 equ.   \n",
       "\n",
       "             value                              year  \n",
       "0         498797.0                              2005  \n",
       "1         383157.0                              2013  \n",
       "2         351210.0                              2017  \n",
       "3         335835.0                              2018  \n",
       "4         299741.0                              2021  \n",
       "...            ...                               ...  \n",
       "76715  109146151.0  Total 3rd trading period (13-20)  \n",
       "76716   54706594.0  Total 2nd trading period (08-12)  \n",
       "76717     324244.0  Total 2nd trading period (08-12)  \n",
       "76718     131029.0  Total 2nd trading period (08-12)  \n",
       "76719    9642485.0  Total 2nd trading period (08-12)  \n",
       "\n",
       "[76720 rows x 10 columns]"
      ]
     },
     "execution_count": 18,
     "metadata": {},
     "output_type": "execute_result"
    }
   ],
   "source": [
    "DATA"
   ]
  },
  {
   "cell_type": "code",
   "execution_count": 19,
   "id": "e7f2166a-5e1a-4d8c-9294-ad5b38807ea1",
   "metadata": {},
   "outputs": [
    {
     "name": "stdout",
     "output_type": "stream",
     "text": [
      "<class 'pandas.core.frame.DataFrame'>\n",
      "Int64Index: 76720 entries, 0 to 76719\n",
      "Data columns (total 10 columns):\n",
      " #   Column                     Non-Null Count  Dtype  \n",
      "---  ------                     --------------  -----  \n",
      " 0   country_x                  76720 non-null  object \n",
      " 1   latitude                   76720 non-null  float64\n",
      " 2   longitude                  76720 non-null  float64\n",
      " 3   country_y                  76720 non-null  object \n",
      " 4   country_code               76720 non-null  object \n",
      " 5   ETS information            76720 non-null  object \n",
      " 6   main activity sector name  76720 non-null  object \n",
      " 7   unit                       76720 non-null  object \n",
      " 8   value                      76720 non-null  float64\n",
      " 9   year                       76720 non-null  object \n",
      "dtypes: float64(3), object(7)\n",
      "memory usage: 6.4+ MB\n"
     ]
    }
   ],
   "source": [
    "DATA.info()"
   ]
  },
  {
   "cell_type": "code",
   "execution_count": 21,
   "id": "74931d76-f7aa-466d-984a-730e7bc27d0e",
   "metadata": {},
   "outputs": [],
   "source": [
    "DATA.to_csv('/Users/brunoluis/Jupyter/Projects /EU ETS DATA/ETS_DATA.csv')"
   ]
  },
  {
   "cell_type": "code",
   "execution_count": null,
   "id": "ebdbac7c",
   "metadata": {},
   "outputs": [],
   "source": []
  }
 ],
 "metadata": {
  "kernelspec": {
   "display_name": "Python 3.9.7 ('base')",
   "language": "python",
   "name": "python3"
  },
  "language_info": {
   "codemirror_mode": {
    "name": "ipython",
    "version": 3
   },
   "file_extension": ".py",
   "mimetype": "text/x-python",
   "name": "python",
   "nbconvert_exporter": "python",
   "pygments_lexer": "ipython3",
   "version": "3.9.7"
  },
  "vscode": {
   "interpreter": {
    "hash": "72c2ae797f619f9c13f41fbd63926efb49f048e9aabb1c00b68feda67b34aa1e"
   }
  }
 },
 "nbformat": 4,
 "nbformat_minor": 5
}
